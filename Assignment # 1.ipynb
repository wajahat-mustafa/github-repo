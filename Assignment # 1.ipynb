{
 "cells": [
  {
   "cell_type": "markdown",
   "id": "c438e267",
   "metadata": {},
   "source": [
    "# Part -1 Python Basics (Variables)"
   ]
  },
  {
   "cell_type": "code",
   "execution_count": null,
   "id": "017fa963",
   "metadata": {},
   "outputs": [],
   "source": [
    "# 1.Print Your Name with your Father name and Date of birth using suitable escape sequence charactor"
   ]
  },
  {
   "cell_type": "code",
   "execution_count": 4,
   "id": "4ec57fb8",
   "metadata": {},
   "outputs": [
    {
     "name": "stdout",
     "output_type": "stream",
     "text": [
      "Name: Wajahat Mustafa\n",
      "Father Name: Abdul Kalam\n",
      "Date of birth: 23-March-1993\n"
     ]
    }
   ],
   "source": [
    "print  (\"Name: Wajahat Mustafa\")\n",
    "print  (\"Father Name: Abdul Kalam\")\n",
    "print  (\"Date of birth: 23-March-1993\")\n"
   ]
  },
  {
   "cell_type": "code",
   "execution_count": null,
   "id": "c9fc34af",
   "metadata": {},
   "outputs": [],
   "source": [
    "# 2.Write your small bio using variables and print it using print function"
   ]
  },
  {
   "cell_type": "code",
   "execution_count": 7,
   "id": "eae2c6b7",
   "metadata": {},
   "outputs": [
    {
     "name": "stdout",
     "output_type": "stream",
     "text": [
      "Name : Wajahat Mustafa\n",
      "Father Name: Abdul kalam\n",
      "age : 31\n",
      "Date of birth: 23-March-1993\n",
      "Education : MBA\n",
      "Occupation : network Engineer\n",
      "Hobby : crircket\n"
     ]
    }
   ],
   "source": [
    "print (f\"Name : Wajahat Mustafa\")\n",
    "print (f\"Father Name: Abdul kalam\")\n",
    "print (\"age : 31\")\n",
    "print (\"Date of birth: 23-March-1993\")\n",
    "print (\"Education : MBA\")\n",
    "print (\"Occupation : network Engineer\")\n",
    "print (\"Hobby : crircket\")\n",
    "\n"
   ]
  },
  {
   "cell_type": "code",
   "execution_count": null,
   "id": "a151e45e",
   "metadata": {},
   "outputs": [],
   "source": [
    "# 3. Write a program in which use all the operators we can use in Python"
   ]
  },
  {
   "cell_type": "code",
   "execution_count": 1,
   "id": "f942cb7a",
   "metadata": {},
   "outputs": [
    {
     "name": "stdout",
     "output_type": "stream",
     "text": [
      "Enter your first num : 56\n",
      "Enter Operator (+,-,*,/) : +\n",
      "Enter your second num : 65\n",
      "121\n"
     ]
    }
   ],
   "source": [
    "first = input(\"Enter your first num : \")\n",
    "operator = input (\"Enter Operator (+,-,*,/) : \")\n",
    "second = input (\"Enter your second num : \")\n",
    "first = int(first)\n",
    "second = int(second)\n",
    "if operator == \"+\" :\n",
    "    print (first + second)\n",
    "elif operator == \"-\" :\n",
    "    print (first - second)\n",
    "elif operator == \"*\" :\n",
    "    print (first * second)\n",
    "elif operator == \"/\" :\n",
    "    print (first / second)\n",
    "else:\n",
    "    print (\"Invalid\")\n",
    "\n"
   ]
  },
  {
   "cell_type": "code",
   "execution_count": 15,
   "id": "6a79e3c8",
   "metadata": {},
   "outputs": [],
   "source": [
    "# 4.Completes the following steps of small task:\n",
    "#Mention Marks of English , Islamiat and Maths out of 100 in 3 different variables\n",
    "#Mention Variable of Total Marks and assign 300 to it\n",
    "#Calculate Percentage'''"
   ]
  },
  {
   "cell_type": "code",
   "execution_count": 4,
   "id": "4407c418",
   "metadata": {},
   "outputs": [
    {
     "name": "stdout",
     "output_type": "stream",
     "text": [
      "Total marks are 270\n",
      "Percenatge is 90.0%\n"
     ]
    }
   ],
   "source": [
    "english_marks = 90\n",
    "islamiat_marks = 95\n",
    "maths_marks = 85\n",
    "total_marks = 300\n",
    "total_obtain_marks = (english_marks + islamiat_marks + maths_marks)\n",
    "percentage = (total_obtain_marks / total_marks )*100\n",
    "\n",
    "print(f\"Total marks are {total_obtain_marks}\")\n",
    "print(f\"Percenatge is {percentage}%\")\n",
    "\n"
   ]
  },
  {
   "cell_type": "markdown",
   "id": "346998cb",
   "metadata": {},
   "source": [
    "# Part -2 Python Basics (Conditional Statements)"
   ]
  },
  {
   "cell_type": "code",
   "execution_count": 17,
   "id": "ac4d91e7",
   "metadata": {},
   "outputs": [],
   "source": [
    "# 1.A company decided to give bonus of 5% to employee if his/her year of service is more than 5 years. Ask user for their salary and year of service and print the net bonus amount."
   ]
  },
  {
   "cell_type": "code",
   "execution_count": 8,
   "id": "38df7772",
   "metadata": {},
   "outputs": [
    {
     "name": "stdin",
     "output_type": "stream",
     "text": [
      "Enter your salary :  100000\n",
      "Enter year of service :  5\n"
     ]
    },
    {
     "name": "stdout",
     "output_type": "stream",
     "text": [
      "sorry! You are not eligible for bonus\n"
     ]
    }
   ],
   "source": [
    "salary = int(input(\"Enter your salary : \"))\n",
    "service = int(input(\"Enter year of service : \"))\n",
    "\n",
    "if service > 5:\n",
    "    bonus_percentage = 5\n",
    "    bonus_amount = (bonus_percentage / 100)*salary\n",
    "    print(f\"Net bonus amount is {bonus_amount}\")\n",
    "else:\n",
    "    print(\"sorry! You are not eligible for bonus\")"
   ]
  },
  {
   "cell_type": "code",
   "execution_count": 22,
   "id": "5db382c2",
   "metadata": {},
   "outputs": [],
   "source": [
    "# 2.Write a program to check whether a person is eligible for voting or not. (accept age from user) if age is greater than 17 eligible otherwise not eligible"
   ]
  },
  {
   "cell_type": "code",
   "execution_count": 10,
   "id": "a6bf258e",
   "metadata": {},
   "outputs": [
    {
     "name": "stdin",
     "output_type": "stream",
     "text": [
      "Enetr your Age :  5\n"
     ]
    },
    {
     "name": "stdout",
     "output_type": "stream",
     "text": [
      "You are not eligible for vote\n"
     ]
    }
   ],
   "source": [
    "age = int(input(\"Enetr your Age : \"))\n",
    "if age > 17:\n",
    "    print (f\"You can vote\")\n",
    "else:\n",
    "    print(f\"You are not eligible for vote\")\n"
   ]
  },
  {
   "cell_type": "code",
   "execution_count": 49,
   "id": "c880741a",
   "metadata": {},
   "outputs": [],
   "source": [
    "# 3.Write a program to check whether a number entered by user is even or odd."
   ]
  },
  {
   "cell_type": "code",
   "execution_count": 11,
   "id": "5fc21982",
   "metadata": {},
   "outputs": [
    {
     "name": "stdin",
     "output_type": "stream",
     "text": [
      "Enter num :  789798789\n"
     ]
    },
    {
     "name": "stdout",
     "output_type": "stream",
     "text": [
      " Num is odd: 789798789\n"
     ]
    }
   ],
   "source": [
    "num = int(input(\"Enter num : \"))\n",
    "if num %2 == 0:\n",
    "    print(f\"Num is even: {num}\")\n",
    "else:\n",
    "    print(f\" Num is odd: {num}\")\n",
    "\n",
    "\n",
    "    "
   ]
  },
  {
   "cell_type": "code",
   "execution_count": 56,
   "id": "60e8ba83",
   "metadata": {},
   "outputs": [],
   "source": [
    "# 4.Write a program to check whether a number is divisible by 7 or not. Show Answer"
   ]
  },
  {
   "cell_type": "code",
   "execution_count": 58,
   "id": "3c311e2d",
   "metadata": {},
   "outputs": [
    {
     "name": "stdout",
     "output_type": "stream",
     "text": [
      "Enter num : 53\n",
      "Number is not divisble by 7\n"
     ]
    }
   ],
   "source": [
    "num = int(input(\"Enter num : \"))\n",
    "if num%7 == 0:\n",
    "    print(\"Number is divisible by 7\")\n",
    "else:\n",
    "    print(\"Number is not divisble by 7\")"
   ]
  },
  {
   "cell_type": "code",
   "execution_count": 59,
   "id": "0d33ddc1",
   "metadata": {},
   "outputs": [],
   "source": [
    "# 5.Write a program to display \"Hello\" if a number entered by user is a multiple of five , otherwise print \"Bye\"."
   ]
  },
  {
   "cell_type": "code",
   "execution_count": 14,
   "id": "231e593a",
   "metadata": {},
   "outputs": [
    {
     "name": "stdin",
     "output_type": "stream",
     "text": [
      "Enter num :  69\n"
     ]
    },
    {
     "name": "stdout",
     "output_type": "stream",
     "text": [
      "Bye\n"
     ]
    }
   ],
   "source": [
    "num = int(input(\"Enter num : \"))\n",
    "if num%5 == 0:\n",
    "    print(\"Hello\")\n",
    "else:\n",
    "    print(\"Bye\")"
   ]
  },
  {
   "cell_type": "code",
   "execution_count": 61,
   "id": "ddc5cc5e",
   "metadata": {},
   "outputs": [],
   "source": [
    "# 6.Write a program to display the last digit of a number.\n"
   ]
  },
  {
   "cell_type": "code",
   "execution_count": 16,
   "id": "e6479298",
   "metadata": {},
   "outputs": [
    {
     "name": "stdin",
     "output_type": "stream",
     "text": [
      "Enter num :  456\n"
     ]
    },
    {
     "name": "stdout",
     "output_type": "stream",
     "text": [
      "Last digit num is: 6\n"
     ]
    }
   ],
   "source": [
    "num = int(input(\"Enter num : \"))\n",
    "last_digit = num % 10\n",
    "print (f\"Last digit num is: {last_digit}\")"
   ]
  },
  {
   "cell_type": "code",
   "execution_count": 67,
   "id": "af1c61bf",
   "metadata": {},
   "outputs": [],
   "source": [
    "# 7. Take values of length and breadth of a rectangle from user and print if it is square or rectangle."
   ]
  },
  {
   "cell_type": "code",
   "execution_count": 1,
   "id": "c2b7763b",
   "metadata": {},
   "outputs": [
    {
     "name": "stdout",
     "output_type": "stream",
     "text": [
      "Enter value of length : 89\n",
      "Enter value of breadth : 98\n",
      "This is Rectangle\n"
     ]
    }
   ],
   "source": [
    "length = float(input(\"Enter value of length : \"))\n",
    "breadth = float (input(\"Enter value of breadth : \"))\n",
    "if length == breadth:\n",
    "    print(\"this is a square\")\n",
    "else:\n",
    "    print(\"This is Rectangle\")"
   ]
  },
  {
   "cell_type": "code",
   "execution_count": null,
   "id": "aa02f85b",
   "metadata": {},
   "outputs": [],
   "source": [
    "#8.Take two int values from user and print greatest among them"
   ]
  },
  {
   "cell_type": "code",
   "execution_count": 18,
   "id": "be79cfb2",
   "metadata": {},
   "outputs": [
    {
     "name": "stdin",
     "output_type": "stream",
     "text": [
      "Enter first value :  600\n",
      "Enter second value :  350\n"
     ]
    },
    {
     "name": "stdout",
     "output_type": "stream",
     "text": [
      " This is greatest Value 600\n"
     ]
    }
   ],
   "source": [
    "num1 = int(input(\"Enter first value : \"))\n",
    "num2 = int(input(\"Enter second value : \"))\n",
    "if num1>num2:\n",
    "    print(f\" This is greatest Value {num1}\")\n",
    "elif num2>num1:\n",
    "    print(f\" Thisi is greatest Value {num2}\")\n",
    "else:\n",
    "   print (\"Both values are Equal\")"
   ]
  },
  {
   "cell_type": "code",
   "execution_count": null,
   "id": "a10aa406",
   "metadata": {},
   "outputs": [],
   "source": [
    "#9.A shop will give discount of 10% if the cost of purchased quantity is more than 1000. Ask user for quantity Suppose, one unit will cost 100. Judge and print total cost for user."
   ]
  },
  {
   "cell_type": "code",
   "execution_count": 20,
   "id": "f3648eca",
   "metadata": {},
   "outputs": [
    {
     "name": "stdin",
     "output_type": "stream",
     "text": [
      "Enter quantity :  1500\n"
     ]
    },
    {
     "name": "stdout",
     "output_type": "stream",
     "text": [
      " After 10% discount your total cost is: 135000.0\n"
     ]
    }
   ],
   "source": [
    "quantity = int(input(\"Enter quantity : \"))\n",
    "unit_cost = 100\n",
    "total_cost = 100*quantity\n",
    "\n",
    "if quantity>= 1000:\n",
    "    discount = 0.1*total_cost\n",
    "    total_cost -= discount\n",
    "    print (f\" After 10% discount your total cost is: {total_cost}\")\n",
    "else:\n",
    "    print (f\"Your total amount is: {total_cost}\")\n",
    "\n",
    "\n"
   ]
  },
  {
   "cell_type": "code",
   "execution_count": null,
   "id": "8ee461f9",
   "metadata": {},
   "outputs": [],
   "source": [
    "#10. school has following rules for grading system:\n",
    "a. Below 25 - F\n",
    "\n",
    "b. 25 to 45 - E\n",
    "\n",
    "c. 45 to 50 - D\n",
    "\n",
    "d. 50 to 60 - C\n",
    "\n",
    "e. 60 to 80 - B\n",
    "\n",
    "f. Above 80 - A\n",
    "\n",
    "Ask user to enter marks and print the corresponding grade."
   ]
  },
  {
   "cell_type": "code",
   "execution_count": 11,
   "id": "07ecfdb5",
   "metadata": {},
   "outputs": [
    {
     "name": "stdout",
     "output_type": "stream",
     "text": [
      "Enter your marks5\n",
      "Your grade is F\n"
     ]
    }
   ],
   "source": [
    "marks = float(input(\"Enter your marks : \"))\n",
    "if marks<25:\n",
    "    print(\"Your grade is F\")\n",
    "elif marks>= 25 and marks <45:\n",
    "    print(\"Your Grade is E\")\n",
    "elif marks>= 45 and marks <50:\n",
    "    print(\"Your Grade is D\")\n",
    "elif marks>= 50 and marks <60:\n",
    "    print(\"Your Grade is C\")\n",
    "elif marks>= 60 and marks <80:\n",
    "    print(\"Your Grade is B\")\n",
    "elif marks>= 80:\n",
    "    print(\"Your Grade is A\")"
   ]
  },
  {
   "cell_type": "code",
   "execution_count": null,
   "id": "c245fb6f",
   "metadata": {},
   "outputs": [],
   "source": [
    "#11 A student will not be allowed to sit in exam if his/her attendence is less than 75%.\n",
    "\n",
    "Take following input from user\n",
    "\n",
    "Number of classes held\n",
    "\n",
    "Number of classes attended.\n",
    "\n",
    "And print\n",
    "\n",
    "percentage of class attended\n",
    "\n",
    "Is student is allowed to sit in exam or not."
   ]
  },
  {
   "cell_type": "code",
   "execution_count": 13,
   "id": "71fb15fb",
   "metadata": {},
   "outputs": [
    {
     "name": "stdout",
     "output_type": "stream",
     "text": [
      "Enter Number of Classes held : 50\n",
      "Enter Number of classes attended : 25\n",
      "percentage of classes attended :  50.0%\n",
      "Student is not allowed to sit in Exam\n"
     ]
    }
   ],
   "source": [
    "classes_held = int(input(\"Enter Number of Classes held : \"))\n",
    "classes_attended = int(input(\"Enter Number of classes attended : \"))\n",
    "percentage_classes = classes_attended/classes_held*100\n",
    "\n",
    "print(f\"percentage of classes attended :  {percentage_classes}%\")\n",
    "\n",
    "if percentage_classes >= 75:\n",
    "    print(\"Student is allowed to sit in Exam\")\n",
    "else:\n",
    "    print(\"Student is not allowed to sit in Exam\")"
   ]
  },
  {
   "cell_type": "code",
   "execution_count": null,
   "id": "ea3c0e8b",
   "metadata": {},
   "outputs": [],
   "source": [
    "# 12.Modify the above question to allow student to sit if he/she has medical cause. \n",
    "Ask user if he/she has medical cause or not ( 'Y' or 'N' ) and print accordingly."
   ]
  },
  {
   "cell_type": "code",
   "execution_count": 14,
   "id": "eeb03edf",
   "metadata": {},
   "outputs": [
    {
     "name": "stdout",
     "output_type": "stream",
     "text": [
      "Enter Number of classes held : 50\n",
      "Enter Number of classes attended : 25\n",
      "Do you have any medical cause for low attendance (Y/N) : y\n",
      "Percentage of classes attended : 50.0\n",
      "you are allowed to sit in exam\n"
     ]
    }
   ],
   "source": [
    "classes_held = int(input(\"Enter Number of classes held : \"))\n",
    "classes_attended = int(input(\"Enter Number of classes attended : \"))\n",
    "medical_cause = input(\"Do you have any medical cause for low attendance (Y/N) : \")\n",
    "\n",
    "percentage_classes = classes_attended/classes_held*100\n",
    "print (f\"Percentage of classes attended : {percentage_classes}\")\n",
    "\n",
    "if percentage_classes >=75 or medical_cause.upper() =='Y':\n",
    "    print(\"you are allowed to sit in exam\")\n",
    "else:\n",
    "    print(\"You are not allowed to sit in exam\")\n",
    "\n"
   ]
  },
  {
   "cell_type": "code",
   "execution_count": null,
   "id": "71b7aa78",
   "metadata": {},
   "outputs": [],
   "source": [
    "#13.Write a program to check if a year is leap year or not.\n",
    "If a year is divisible by 4 then it is leap year but if the year is century year like 2000, 1900, 2100 then it must be divisible by 400."
   ]
  },
  {
   "cell_type": "code",
   "execution_count": 17,
   "id": "6cc3de2f",
   "metadata": {},
   "outputs": [
    {
     "name": "stdout",
     "output_type": "stream",
     "text": [
      "Enter year  2001\n",
      "2001 is not leap Year. \n"
     ]
    }
   ],
   "source": [
    "year = int(input(\"Enter year  \"))\n",
    "\n",
    "if year % 4 == 0 and year % 100 != 0 or year %400 == 0:\n",
    "    print (f\"{year} is leap Year. \")\n",
    "else:\n",
    "    print(f\"{year} is not leap Year. \")"
   ]
  },
  {
   "cell_type": "code",
   "execution_count": null,
   "id": "d0c635d4",
   "metadata": {},
   "outputs": [],
   "source": [
    "#14.Ask user to enter age, gender ( M or F ), marital status ( Y or N ) and then using following rules print their place of service.\n",
    "if employee is female, then she will work only in urban areas.\n",
    "\n",
    "if employee is a male and age is in between 20 to 40 then he may work in anywhere\n",
    "\n",
    "if employee is male and age is in between 40 t0 60 then he will work in urban areas only.\n",
    "\n",
    "And any other input of age should print \"ERROR\""
   ]
  },
  {
   "cell_type": "code",
   "execution_count": 18,
   "id": "6d37e52e",
   "metadata": {},
   "outputs": [
    {
     "name": "stdout",
     "output_type": "stream",
     "text": [
      "Enter your age : 55\n",
      "Enter your Gender (M or F ) : m\n",
      "Are you married? (Y or N) : y\n",
      "He will work in urban areas only.\n"
     ]
    }
   ],
   "source": [
    "age = int(input(\"Enter your age : \")) \n",
    "gender = (input(\"Enter your Gender (M or F ) : \")).upper()\n",
    "Marital_status = (input(\"Are you married? (Y or N) : \")).upper()\n",
    "\n",
    "if gender == 'F':\n",
    "    print(\"She will work in urban areas\")\n",
    "elif gender == 'M':\n",
    "    if 20<= age <= 40:\n",
    "        print (\"He may work anywhere\")\n",
    "    elif 40<= age <= 60:\n",
    "        print (\"He will work in urban areas only.\")\n",
    "    else:\n",
    "        print(\"ERROR: Age criteria not met.\")\n",
    "else:\n",
    "    print(\"ERROR: Gender criteria not recognized.\")"
   ]
  },
  {
   "cell_type": "code",
   "execution_count": null,
   "id": "31c6210c",
   "metadata": {},
   "outputs": [],
   "source": [
    "#15. Write a program to calculate the electricity bill (accept number of unit from user) according to the following criteria : Unit Price\n",
    "uptp 100 units no charge Next 200 units Rs 5 per unit After 200 units Rs 10 per unit \n",
    "(For example if input unit is 350 than total bill amount is Rs.3500 \n",
    " (For example if input unit is 97 than total bill amount is Rs.0\n",
    "  (For example if input unit is 150 than total bill amount is Rs.750"
   ]
  },
  {
   "cell_type": "code",
   "execution_count": 23,
   "id": "51a04f16",
   "metadata": {},
   "outputs": [
    {
     "name": "stdout",
     "output_type": "stream",
     "text": [
      "Enter Units : 350\n",
      "Total amount is Rs.3500\n"
     ]
    }
   ],
   "source": [
    "unit = int(input(\"Enter Units : \"))\n",
    "\n",
    "if unit <= 100:\n",
    "    total_amount = unit *0\n",
    "    print(f\"Total amount is Rs.{total_amount}\")\n",
    "elif unit <=200:\n",
    "    total_amount = unit *5\n",
    "    print(f\"Total amount is Rs{total_amount}\")\n",
    "elif unit >200:\n",
    "    total_amount = unit *10\n",
    "    print(f\"Total amount is Rs.{total_amount}\")"
   ]
  },
  {
   "cell_type": "code",
   "execution_count": null,
   "id": "74d9d235",
   "metadata": {},
   "outputs": [],
   "source": []
  }
 ],
 "metadata": {
  "kernelspec": {
   "display_name": "Python 3 (ipykernel)",
   "language": "python",
   "name": "python3"
  },
  "language_info": {
   "codemirror_mode": {
    "name": "ipython",
    "version": 3
   },
   "file_extension": ".py",
   "mimetype": "text/x-python",
   "name": "python",
   "nbconvert_exporter": "python",
   "pygments_lexer": "ipython3",
   "version": "3.11.7"
  }
 },
 "nbformat": 4,
 "nbformat_minor": 5
}
